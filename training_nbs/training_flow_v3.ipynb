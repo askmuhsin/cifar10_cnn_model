{
 "cells": [
  {
   "cell_type": "code",
   "execution_count": 1,
   "id": "f35ed4b3-9065-4757-ab9e-382ccac52f17",
   "metadata": {},
   "outputs": [],
   "source": [
    "%load_ext autoreload\n",
    "%autoreload 2"
   ]
  },
  {
   "cell_type": "code",
   "execution_count": null,
   "id": "36c6b07e-d8ed-46fa-9e8f-85e914465d87",
   "metadata": {},
   "outputs": [],
   "source": [
    "# from ds_toolkit.general_utils.gpu_utils import addGPU\n",
    "\n",
    "# addGPU()"
   ]
  },
  {
   "cell_type": "code",
   "execution_count": 2,
   "id": "3763af0e-0ce9-4930-84ef-b4e6cdba48ed",
   "metadata": {},
   "outputs": [],
   "source": [
    "import sys\n",
    "sys.path.append('../')"
   ]
  },
  {
   "cell_type": "code",
   "execution_count": 3,
   "id": "0e32ce4e-e0cf-48cd-950d-1a9eb4ca0324",
   "metadata": {},
   "outputs": [],
   "source": [
    "from utils.data import CIFAR10_dataset\n",
    "from utils.misc import (\n",
    "    show_random_images,\n",
    "    get_device,\n",
    "    set_seed,\n",
    "    is_cuda,\n",
    "    show_model_summary,\n",
    "    show_img_grid,\n",
    "    show_random_images_for_each_class,\n",
    "    get_wrong_predictions\n",
    ")\n",
    "from utils.model import Net\n",
    "from utils.training import train\n",
    "from utils.testing import test"
   ]
  },
  {
   "cell_type": "code",
   "execution_count": 5,
   "id": "b91ff13e-b0d8-4a62-ac96-bfa2f2c3e8c3",
   "metadata": {},
   "outputs": [],
   "source": [
    "from torch.optim.lr_scheduler import ReduceLROnPlateau\n",
    "from torch.utils.tensorboard import SummaryWriter\n",
    "import torch.optim as optim\n",
    "from tqdm import tqdm\n",
    "import pandas as pd\n",
    "import numpy as np\n",
    "import torchvision\n",
    "\n",
    "# import wandb"
   ]
  },
  {
   "cell_type": "code",
   "execution_count": null,
   "id": "769f1e48-2e7c-4483-820d-2032eb65a664",
   "metadata": {},
   "outputs": [],
   "source": []
  },
  {
   "cell_type": "code",
   "execution_count": 6,
   "id": "91a56474-2547-43af-8fc9-3457a95bb5a6",
   "metadata": {},
   "outputs": [
    {
     "name": "stdout",
     "output_type": "stream",
     "text": [
      "[INFO] seed set 1\n",
      "[INFO] Cuda Avaliable :  False\n",
      "[INFO] device :  cpu\n"
     ]
    }
   ],
   "source": [
    "set_seed()\n",
    "cuda = is_cuda()\n",
    "device = get_device()"
   ]
  },
  {
   "cell_type": "code",
   "execution_count": null,
   "id": "567593f1-bb70-41e2-bf01-1dfcb45f2d2e",
   "metadata": {},
   "outputs": [],
   "source": []
  },
  {
   "cell_type": "code",
   "execution_count": 8,
   "id": "555c8a42-5dcb-42b7-904e-ce395e564735",
   "metadata": {},
   "outputs": [],
   "source": [
    "train_loader = CIFAR10_dataset(\n",
    "    train=True, cuda=cuda\n",
    ").get_loader()\n",
    "test_loader = CIFAR10_dataset(\n",
    "    train=False, cuda=cuda\n",
    ").get_loader()"
   ]
  },
  {
   "cell_type": "code",
   "execution_count": null,
   "id": "9cfdb7b7-ba35-4488-87b3-3bf561da1b72",
   "metadata": {},
   "outputs": [],
   "source": []
  },
  {
   "cell_type": "code",
   "execution_count": 9,
   "id": "a0f1bcae-bd29-472d-b891-7e1187282f9b",
   "metadata": {},
   "outputs": [],
   "source": [
    "results = {}\n",
    "models = {}"
   ]
  },
  {
   "cell_type": "code",
   "execution_count": 10,
   "id": "d0f8fd2a-9648-43d5-a0e9-fed699deb652",
   "metadata": {},
   "outputs": [
    {
     "name": "stdout",
     "output_type": "stream",
     "text": [
      "----------------------------------------------------------------\n",
      "        Layer (type)               Output Shape         Param #\n",
      "================================================================\n",
      "            Conv2d-1           [-1, 32, 32, 32]             864\n",
      "       BatchNorm2d-2           [-1, 32, 32, 32]              64\n",
      "              ReLU-3           [-1, 32, 32, 32]               0\n",
      "           Dropout-4           [-1, 32, 32, 32]               0\n",
      "         ConvBNAct-5           [-1, 32, 32, 32]               0\n",
      "            Conv2d-6           [-1, 32, 32, 32]           9,216\n",
      "       BatchNorm2d-7           [-1, 32, 32, 32]              64\n",
      "              ReLU-8           [-1, 32, 32, 32]               0\n",
      "           Dropout-9           [-1, 32, 32, 32]               0\n",
      "        ConvBNAct-10           [-1, 32, 32, 32]               0\n",
      "           Conv2d-11           [-1, 32, 32, 32]           9,216\n",
      "      BatchNorm2d-12           [-1, 32, 32, 32]              64\n",
      "             ReLU-13           [-1, 32, 32, 32]               0\n",
      "          Dropout-14           [-1, 32, 32, 32]               0\n",
      "        ConvBNAct-15           [-1, 32, 32, 32]               0\n",
      "           Conv2d-16           [-1, 16, 15, 15]           4,608\n",
      "      BatchNorm2d-17           [-1, 16, 15, 15]              32\n",
      "             ReLU-18           [-1, 16, 15, 15]               0\n",
      "          Dropout-19           [-1, 16, 15, 15]               0\n",
      "        ConvBNAct-20           [-1, 16, 15, 15]               0\n",
      "           Conv2d-21           [-1, 32, 15, 15]           4,608\n",
      "      BatchNorm2d-22           [-1, 32, 15, 15]              64\n",
      "             ReLU-23           [-1, 32, 15, 15]               0\n",
      "          Dropout-24           [-1, 32, 15, 15]               0\n",
      "        ConvBNAct-25           [-1, 32, 15, 15]               0\n",
      "           Conv2d-26           [-1, 64, 15, 15]          18,432\n",
      "      BatchNorm2d-27           [-1, 64, 15, 15]             128\n",
      "             ReLU-28           [-1, 64, 15, 15]               0\n",
      "          Dropout-29           [-1, 64, 15, 15]               0\n",
      "        ConvBNAct-30           [-1, 64, 15, 15]               0\n",
      "           Conv2d-31             [-1, 32, 7, 7]          18,432\n",
      "      BatchNorm2d-32             [-1, 32, 7, 7]              64\n",
      "             ReLU-33             [-1, 32, 7, 7]               0\n",
      "          Dropout-34             [-1, 32, 7, 7]               0\n",
      "        ConvBNAct-35             [-1, 32, 7, 7]               0\n",
      "           Conv2d-36             [-1, 32, 7, 7]              32\n",
      "           Conv2d-37             [-1, 64, 7, 7]           2,048\n",
      "      BatchNorm2d-38             [-1, 64, 7, 7]             128\n",
      "             ReLU-39             [-1, 64, 7, 7]               0\n",
      "  SeparableConv2d-40             [-1, 64, 7, 7]               0\n",
      "           Conv2d-41             [-1, 64, 7, 7]          36,864\n",
      "      BatchNorm2d-42             [-1, 64, 7, 7]             128\n",
      "             ReLU-43             [-1, 64, 7, 7]               0\n",
      "          Dropout-44             [-1, 64, 7, 7]               0\n",
      "        ConvBNAct-45             [-1, 64, 7, 7]               0\n",
      "           Conv2d-46             [-1, 64, 5, 5]           4,096\n",
      "      BatchNorm2d-47             [-1, 64, 5, 5]             128\n",
      "             ReLU-48             [-1, 64, 5, 5]               0\n",
      "          Dropout-49             [-1, 64, 5, 5]               0\n",
      "        ConvBNAct-50             [-1, 64, 5, 5]               0\n",
      "           Conv2d-51             [-1, 64, 5, 5]          36,864\n",
      "      BatchNorm2d-52             [-1, 64, 5, 5]             128\n",
      "             ReLU-53             [-1, 64, 5, 5]               0\n",
      "          Dropout-54             [-1, 64, 5, 5]               0\n",
      "        ConvBNAct-55             [-1, 64, 5, 5]               0\n",
      "           Conv2d-56             [-1, 10, 5, 5]           5,760\n",
      "        ConvBNAct-57             [-1, 10, 5, 5]               0\n",
      "        AvgPool2d-58             [-1, 10, 1, 1]               0\n",
      "================================================================\n",
      "Total params: 152,032\n",
      "Trainable params: 152,032\n",
      "Non-trainable params: 0\n",
      "----------------------------------------------------------------\n",
      "Input size (MB): 0.01\n",
      "Forward/backward pass size (MB): 5.12\n",
      "Params size (MB): 0.58\n",
      "Estimated Total Size (MB): 5.72\n",
      "----------------------------------------------------------------\n"
     ]
    }
   ],
   "source": [
    "net = Net().to(device)\n",
    "show_model_summary(net, (3, 32, 32))"
   ]
  },
  {
   "cell_type": "code",
   "execution_count": null,
   "id": "1ea67d4f-8b88-4e97-9bef-059734a77eb1",
   "metadata": {},
   "outputs": [],
   "source": [
    "run = wandb.init(project='cifar_10_lte200k_npool', entity='askmuhsin', reinit=True)\n",
    "\n",
    "for exp_name, exp in experiments.items():\n",
    "    print(\"Experiment : \", exp_name)\n",
    "    results[exp_name] = {\n",
    "        'train_loss': [],\n",
    "        'train_acc': [],\n",
    "        'test_loss': [],\n",
    "        'test_acc': [],\n",
    "        'epoch': [],\n",
    "    }\n",
    "    \n",
    "    optimizer = optim.SGD(\n",
    "        net.parameters(), \n",
    "        lr=0.015, momentum=0.9\n",
    "    )\n",
    "    lr_scheduler = ReduceLROnPlateau(\n",
    "        optimizer, mode='min', factor=0.2, \n",
    "        patience=3, min_lr=0.0001, verbose=True\n",
    "    )\n",
    "\n",
    "    for epoch in range(0, EPOCHS + 1):\n",
    "        print(f\"[EPOCH {epoch} / {EPOCHS}] -- \")\n",
    "        train_loss_batch, train_acc_batch = train(\n",
    "            net, device, \n",
    "            train_loader, \n",
    "            optimizer, \n",
    "            lr_scheduler,\n",
    "            L1=exp['L1']\n",
    "        )\n",
    "        \n",
    "        train_acc = np.mean(train_acc_batch)\n",
    "        train_loss = np.mean(train_loss_batch)\n",
    "\n",
    "        test_loss, test_acc = test(\n",
    "            net, device, \n",
    "            test_loader,\n",
    "            lr_scheduler\n",
    "        )\n",
    "        \n",
    "        wandb.log(\n",
    "            {\n",
    "                \"train_acc\": train_acc,\n",
    "                \"test_acc\": test_acc,\n",
    "                \"train_loss\": train_loss,\n",
    "                \"test_loss\": test_loss,\n",
    "                \"lr\": optimizer.param_groups[0]['lr'],\n",
    "            }\n",
    "        )\n",
    "        \n",
    "        for metric in ['train_loss', 'train_acc', 'test_loss', 'test_acc', 'epoch']:\n",
    "            results[exp_name][metric].append(eval(metric))\n",
    "    \n",
    "    models[exp_name] = net\n",
    "\n",
    "run.finish()"
   ]
  },
  {
   "cell_type": "code",
   "execution_count": null,
   "id": "9ae70904-ad3b-4c8c-ac48-599985b98fc1",
   "metadata": {},
   "outputs": [],
   "source": []
  },
  {
   "cell_type": "code",
   "execution_count": null,
   "id": "5487c71a-6dc0-4985-b05f-9363bcc9f9ae",
   "metadata": {},
   "outputs": [],
   "source": []
  },
  {
   "cell_type": "code",
   "execution_count": null,
   "id": "cb6df8b8-c191-4952-aac8-ac6c9b3e8607",
   "metadata": {},
   "outputs": [],
   "source": []
  }
 ],
 "metadata": {
  "kernelspec": {
   "display_name": "Python 3",
   "language": "python",
   "name": "python3"
  },
  "language_info": {
   "codemirror_mode": {
    "name": "ipython",
    "version": 3
   },
   "file_extension": ".py",
   "mimetype": "text/x-python",
   "name": "python",
   "nbconvert_exporter": "python",
   "pygments_lexer": "ipython3",
   "version": "3.8.2"
  }
 },
 "nbformat": 4,
 "nbformat_minor": 5
}
